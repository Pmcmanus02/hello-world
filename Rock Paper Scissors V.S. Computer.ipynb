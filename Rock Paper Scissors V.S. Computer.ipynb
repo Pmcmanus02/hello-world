{
 "cells": [
  {
   "cell_type": "code",
   "execution_count": 1,
   "metadata": {
    "collapsed": true
   },
   "outputs": [],
   "source": [
    "import random\n",
    "def shoot():\n",
    "    cont = 'y'\n",
    "    while cont == 'y':\n",
    "        p1 = raw_input('Player 1; rock, paper, or scissors?').lower()\n",
    "    \n",
    "        com_choice = ['rock','paper','scissors']\n",
    "        p2 = random.choice(com_choice)\n",
    "    \n",
    "        if p1 == 'rock' and p2 == 'paper':\n",
    "            print 'You chose rock and the computer chose paper...'\n",
    "            print 'The computer wins, haha!!'\n",
    "            cont = raw_input('Do you want to continue? Y/N ').lower()\n",
    "            \n",
    "        elif p1 == 'rock' and p2 == 'scissors':\n",
    "            print 'You chose rock and the computer chose scissors...'\n",
    "            print 'You win!!'\n",
    "            cont = raw_input('Do you want to continue? Y/N ').lower()\n",
    "            \n",
    "        elif p1 == 'paper' and p2 == 'scissors':\n",
    "            print 'You chose paper and the computer chose scissors...'\n",
    "            print 'The computer wins, haha!!'\n",
    "            cont = raw_input('Do you want to continue? Y/N ').lower()\n",
    "            \n",
    "        elif p1 == 'paper' and p2 == 'rock':\n",
    "            print 'You chose paper and the computer chose rock...'\n",
    "            print 'You win!!'\n",
    "            cont = raw_input('Do you want to continue? Y/N ').lower()\n",
    "            \n",
    "        elif p1 == 'scissors' and p2 == 'rock':\n",
    "            print 'You chose scissors and the computer chose rock...'\n",
    "            print 'The computer wins, haha!!'\n",
    "            cont = raw_input('Do you want to continue? Y/N ').lower()\n",
    "            \n",
    "        elif p1 == 'scissors' and p2 == 'paper':\n",
    "            print 'You chose scissors and the computer chose paper...'\n",
    "            print 'You win!!'\n",
    "            cont = raw_input('Do you want to continue? Y/N ').lower()\n",
    "            \n",
    "        else:\n",
    "            print 'You both chose',p1,'...'\n",
    "            print 'Its a draw!'\n",
    "            cont = raw_input('Do you want to continue? Y/N ').lower()\n",
    "        "
   ]
  },
  {
   "cell_type": "code",
   "execution_count": null,
   "metadata": {
    "collapsed": false
   },
   "outputs": [
    {
     "name": "stdout",
     "output_type": "stream",
     "text": [
      "Player 1; rock, paper, or scissors?rock\n",
      "You chose rock and the computer chose paper...\n",
      "The computer wins, haha!!\n",
      "Do you want to continue? Y/N y\n",
      "Player 1; rock, paper, or scissors?rock\n",
      "You both chose rock ...\n",
      "Its a draw!\n",
      "Do you want to continue? Y/N y\n",
      "Player 1; rock, paper, or scissors?rock\n",
      "You chose rock and the computer chose scissors...\n",
      "You win!!\n",
      "Do you want to continue? Y/N y\n",
      "Player 1; rock, paper, or scissors?rock\n",
      "You chose rock and the computer chose paper...\n",
      "The computer wins, haha!!\n",
      "Do you want to continue? Y/N y\n",
      "Player 1; rock, paper, or scissors?rock\n",
      "You chose rock and the computer chose scissors...\n",
      "You win!!\n",
      "Do you want to continue? Y/N y\n",
      "Player 1; rock, paper, or scissors?rock\n",
      "You chose rock and the computer chose paper...\n",
      "The computer wins, haha!!\n",
      "Do you want to continue? Y/N y\n",
      "Player 1; rock, paper, or scissors?rock\n",
      "You chose rock and the computer chose paper...\n",
      "The computer wins, haha!!\n"
     ]
    }
   ],
   "source": [
    "shoot()"
   ]
  },
  {
   "cell_type": "code",
   "execution_count": null,
   "metadata": {
    "collapsed": true
   },
   "outputs": [],
   "source": []
  }
 ],
 "metadata": {
  "kernelspec": {
   "display_name": "Python [default]",
   "language": "python",
   "name": "python2"
  },
  "language_info": {
   "codemirror_mode": {
    "name": "ipython",
    "version": 2
   },
   "file_extension": ".py",
   "mimetype": "text/x-python",
   "name": "python",
   "nbconvert_exporter": "python",
   "pygments_lexer": "ipython2",
   "version": "2.7.12"
  }
 },
 "nbformat": 4,
 "nbformat_minor": 1
}
